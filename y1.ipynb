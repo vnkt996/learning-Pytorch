{
 "cells": [
  {
   "cell_type": "code",
   "execution_count": 11,
   "source": [
    "#basics of pytorch & some numpy\r\n",
    "\r\n",
    "import torch\r\n",
    "\r\n",
    "x = torch.empty(1,2,3, dtype= torch.int)\r\n",
    "\r\n",
    "print(x.dtype)"
   ],
   "outputs": [
    {
     "output_type": "stream",
     "name": "stdout",
     "text": [
      "torch.int32\n"
     ]
    }
   ],
   "metadata": {}
  },
  {
   "cell_type": "code",
   "execution_count": 13,
   "source": [
    "x = torch.tensor([1,2,3])\r\n",
    "\r\n",
    "print(x)"
   ],
   "outputs": [
    {
     "output_type": "stream",
     "name": "stdout",
     "text": [
      "tensor([1, 2, 3])\n"
     ]
    }
   ],
   "metadata": {}
  },
  {
   "cell_type": "code",
   "execution_count": 14,
   "source": [
    "x = torch.rand(2,3)\r\n",
    "\r\n",
    "print(x)"
   ],
   "outputs": [
    {
     "output_type": "stream",
     "name": "stdout",
     "text": [
      "tensor([[0.6980, 0.1674, 0.0322],\n",
      "        [0.1883, 0.6944, 0.6623]])\n"
     ]
    }
   ],
   "metadata": {}
  },
  {
   "cell_type": "code",
   "execution_count": 17,
   "source": [
    "y = torch.rand(2,3)\r\n",
    "print(y)\r\n",
    "\r\n",
    "#underscore functions does in place addition\r\n",
    "y.add_(x)\r\n",
    "print(y)"
   ],
   "outputs": [
    {
     "output_type": "stream",
     "name": "stdout",
     "text": [
      "tensor([[0.2402, 0.3297, 0.9110],\n",
      "        [0.0949, 0.4532, 0.7298]])\n",
      "tensor([[0.9382, 0.4971, 0.9432],\n",
      "        [0.2832, 1.1477, 1.3921]])\n"
     ]
    }
   ],
   "metadata": {}
  },
  {
   "cell_type": "code",
   "execution_count": 22,
   "source": [
    "z = torch.rand(5, 4)\r\n",
    "print(z)\r\n",
    "\r\n",
    "print(z[:,1])"
   ],
   "outputs": [
    {
     "output_type": "stream",
     "name": "stdout",
     "text": [
      "tensor([[0.1492, 0.9004, 0.0713, 0.1102],\n",
      "        [0.3531, 0.9763, 0.2891, 0.8836],\n",
      "        [0.6328, 0.3073, 0.6923, 0.2183],\n",
      "        [0.1922, 0.9681, 0.7457, 0.8379],\n",
      "        [0.2021, 0.0866, 0.1803, 0.3327]])\n",
      "tensor([0.9004, 0.9763, 0.3073, 0.9681, 0.0866])\n"
     ]
    }
   ],
   "metadata": {}
  },
  {
   "cell_type": "code",
   "execution_count": 24,
   "source": [
    "x = torch.rand(2,3,4)\r\n",
    "print(x)\r\n",
    "y = x.view(4,6)\r\n",
    "print(y)"
   ],
   "outputs": [
    {
     "output_type": "stream",
     "name": "stdout",
     "text": [
      "tensor([[[0.9032, 0.8318, 0.5061, 0.7951],\n",
      "         [0.1601, 0.3905, 0.3037, 0.7515],\n",
      "         [0.3543, 0.4366, 0.6939, 0.3204]],\n",
      "\n",
      "        [[0.9514, 0.3644, 0.0288, 0.7751],\n",
      "         [0.8659, 0.3039, 0.3031, 0.2404],\n",
      "         [0.2223, 0.1410, 0.7141, 0.1361]]])\n",
      "tensor([[0.9032, 0.8318, 0.5061, 0.7951, 0.1601, 0.3905],\n",
      "        [0.3037, 0.7515, 0.3543, 0.4366, 0.6939, 0.3204],\n",
      "        [0.9514, 0.3644, 0.0288, 0.7751, 0.8659, 0.3039],\n",
      "        [0.3031, 0.2404, 0.2223, 0.1410, 0.7141, 0.1361]])\n"
     ]
    }
   ],
   "metadata": {}
  },
  {
   "cell_type": "code",
   "execution_count": null,
   "source": [],
   "outputs": [],
   "metadata": {}
  }
 ],
 "metadata": {
  "orig_nbformat": 4,
  "language_info": {
   "name": "python",
   "version": "3.8.8",
   "mimetype": "text/x-python",
   "codemirror_mode": {
    "name": "ipython",
    "version": 3
   },
   "pygments_lexer": "ipython3",
   "nbconvert_exporter": "python",
   "file_extension": ".py"
  },
  "kernelspec": {
   "name": "python3",
   "display_name": "Python 3.8.8 64-bit ('base': conda)"
  },
  "interpreter": {
   "hash": "6bd5f2c578ea81d4a7725a2bf64f4479fff78f85d5d01cd93f7e193f2574024b"
  }
 },
 "nbformat": 4,
 "nbformat_minor": 2
}