{
 "cells": [
  {
   "cell_type": "code",
   "execution_count": 3,
   "source": [
    "#auto grad\r\n",
    "\r\n",
    "import torch\r\n",
    "\r\n",
    "x = torch.randn(5, requires_grad = True)\r\n",
    "print(x)"
   ],
   "outputs": [
    {
     "output_type": "stream",
     "name": "stdout",
     "text": [
      "tensor([-0.8895, -1.1564,  0.8982,  1.3924,  0.4621], requires_grad=True)\n"
     ]
    }
   ],
   "metadata": {}
  },
  {
   "cell_type": "code",
   "execution_count": 10,
   "source": [
    "y = x + 2\r\n",
    "print(y)\r\n",
    "\r\n",
    "# z = y\r\n",
    "# z = z.mean()\r\n",
    "y = y.mean()\r\n",
    "y.backward()\r\n",
    "# y = y.mean()\r\n",
    "\r\n",
    "print(x.grad)"
   ],
   "outputs": [
    {
     "output_type": "stream",
     "name": "stdout",
     "text": [
      "tensor([1.1105, 0.8436, 2.8982, 3.3924, 2.4621], grad_fn=<AddBackward0>)\n",
      "tensor([1.2884, 1.0749, 2.7185, 3.1139, 2.3697])\n"
     ]
    }
   ],
   "metadata": {}
  }
 ],
 "metadata": {
  "orig_nbformat": 4,
  "language_info": {
   "name": "python",
   "version": "3.8.8",
   "mimetype": "text/x-python",
   "codemirror_mode": {
    "name": "ipython",
    "version": 3
   },
   "pygments_lexer": "ipython3",
   "nbconvert_exporter": "python",
   "file_extension": ".py"
  },
  "kernelspec": {
   "name": "python3",
   "display_name": "Python 3.8.8 64-bit ('base': conda)"
  },
  "interpreter": {
   "hash": "6bd5f2c578ea81d4a7725a2bf64f4479fff78f85d5d01cd93f7e193f2574024b"
  }
 },
 "nbformat": 4,
 "nbformat_minor": 2
}